{
 "cells": [
  {
   "cell_type": "markdown",
   "id": "25d7736c-ba17-4aff-b6bb-66eba20fbf4e",
   "metadata": {},
   "source": [
    "# Lab | Functions"
   ]
  },
  {
   "cell_type": "markdown",
   "id": "0c581062-8967-4d93-b06e-62833222f930",
   "metadata": {
    "tags": []
   },
   "source": [
    "## Exercise: Managing Customer Orders with Functions\n",
    "\n",
    "In the previous exercise, you improved the code for managing customer orders by using loops and flow control. Now, let's take it a step further and refactor the code by introducing functions.\n",
    "\n",
    "Follow the steps below to complete the exercise:\n",
    "\n",
    "1. Define a function named `initialize_inventory` that takes `products` as a parameter. Inside the function, implement the code for initializing the inventory dictionary using a loop and user input.\n",
    "\n",
    "2. Define a function named `get_customer_orders` that takes no parameters. Inside the function, implement the code for prompting the user to enter the product names using a loop. The function should return the `customer_orders` set.\n",
    "\n",
    "3. Define a function named `update_inventory` that takes `customer_orders` and `inventory` as parameters. Inside the function, implement the code for updating the inventory dictionary based on the customer orders.\n",
    "\n",
    "4. Define a function named `calculate_order_statistics` that takes `customer_orders` and `products` as parameters. Inside the function, implement the code for calculating the order statistics (total products ordered, and percentage of unique products ordered). The function should return these values.\n",
    "\n",
    "5. Define a function named `print_order_statistics` that takes `order_statistics` as a parameter. Inside the function, implement the code for printing the order statistics.\n",
    "\n",
    "6. Define a function named `print_updated_inventory` that takes `inventory` as a parameter. Inside the function, implement the code for printing the updated inventory.\n",
    "\n",
    "7. Call the functions in the appropriate sequence to execute the program and manage customer orders.\n",
    "\n",
    "Hints for functions:\n",
    "\n",
    "- Consider the input parameters required for each function and their return values.\n",
    "- Utilize function parameters and return values to transfer data between functions.\n",
    "- Test your functions individually to ensure they work correctly.\n",
    "\n",
    "\n"
   ]
  },
  {
   "cell_type": "code",
   "execution_count": 45,
   "id": "d4e8c767",
   "metadata": {},
   "outputs": [],
   "source": [
    "def initialize_inventory(products) :\n",
    "    inventory = {}\n",
    "    for name in products :\n",
    "        product_quantity = int(input(f\"Input product quantity for {name}: \"))\n",
    "        inventory[name] = product_quantity\n",
    "    return inventory\n"
   ]
  },
  {
   "cell_type": "code",
   "execution_count": 46,
   "id": "0ae39a9b",
   "metadata": {},
   "outputs": [],
   "source": [
    "def get_customer_orders(products) :\n",
    "    customer_orders = set()\n",
    "    while True : \n",
    "        selected_products = str(input(f\"Input selected products from {products}: \"))\n",
    "        customer_orders.add(selected_products)\n",
    "        continue_selecting = input(\"Do you want to add an other product?(Yes or No): \")\n",
    "        continue_selecting = continue_selecting.upper()\n",
    "        if continue_selecting == \"YES\":\n",
    "            continue\n",
    "        elif continue_selecting != \"YES\":\n",
    "            break \n",
    "    return customer_orders\n",
    "    \n"
   ]
  },
  {
   "cell_type": "code",
   "execution_count": 47,
   "id": "df707908",
   "metadata": {},
   "outputs": [],
   "source": [
    "def update_inventory(customer_orders, inventory):\n",
    "    for product in customer_orders :\n",
    "        if product in inventory:\n",
    "            inventory[product] -=1 \n",
    "            print(\"Updated inventory:\",product,inventory[product])\n",
    "    return inventory\n"
   ]
  },
  {
   "cell_type": "code",
   "execution_count": 48,
   "id": "434c9b3e",
   "metadata": {},
   "outputs": [],
   "source": [
    "def calculate_order_statistics(customer_orders, products):\n",
    "    total_products_ordered = len(customer_orders)\n",
    "    percentage_ordered = (len(customer_orders)/len(products))*100\n",
    "    return total_products_ordered, percentage_ordered"
   ]
  },
  {
   "cell_type": "code",
   "execution_count": 49,
   "id": "490e9459",
   "metadata": {},
   "outputs": [],
   "source": [
    "def print_order_statistics(order_statistics):\n",
    "    total_products_ordered, percentage_ordered = order_statistics\n",
    "    print(\"Order Statistics:\")\n",
    "    print(\"Total product ordered:\",total_products_ordered)\n",
    "    print(\"Percentage of Products Ordered: \",percentage_ordered,\"%\")\n",
    "\n",
    "\n"
   ]
  },
  {
   "cell_type": "code",
   "execution_count": 52,
   "id": "0dd1d8eb",
   "metadata": {},
   "outputs": [],
   "source": [
    "def print_updated_inventory(inventory):\n",
    "    print(\"Inventory:\")\n",
    "    for k, v in inventory.items():\n",
    "        print(f\"   {k}: {v}\")\n",
    "    print(\"----------------\")\n",
    "\n"
   ]
  },
  {
   "cell_type": "code",
   "execution_count": 53,
   "id": "7e9a4d6a",
   "metadata": {},
   "outputs": [
    {
     "name": "stdout",
     "output_type": "stream",
     "text": [
      "Inventory:\n",
      "   t-shirt: 5\n",
      "   mug: 5\n",
      "   hat: 5\n",
      "   book: 5\n",
      "   keychain: 5\n",
      "----------------\n",
      "\n",
      "Customer order: {'hat', 'book'}\n",
      "\n",
      "Order Statistics:\n",
      "Total product ordered: 2\n",
      "Percentage of Products Ordered:  40.0 %\n",
      "\n",
      "Updated inventory: hat 4\n",
      "Updated inventory: book 4\n",
      "Inventory:\n",
      "   t-shirt: 5\n",
      "   mug: 5\n",
      "   hat: 4\n",
      "   book: 4\n",
      "   keychain: 5\n",
      "----------------\n"
     ]
    }
   ],
   "source": [
    "products = [\"t-shirt\",\"mug\",\"hat\",\"book\",\"keychain\"]\n",
    "\n",
    "initial_inventory = initialize_inventory(products)\n",
    "print_updated_inventory(initial_inventory)\n",
    "print()\n",
    "\n",
    "orders = get_customer_orders(products)\n",
    "print(f\"Customer order:\", orders)\n",
    "print()\n",
    "\n",
    "order_stats = calculate_order_statistics(orders, products) \n",
    "print_order_statistics(order_stats)\n",
    "print()\n",
    "\n",
    "inventory = update_inventory(orders, initial_inventory)\n",
    "print_updated_inventory(inventory)"
   ]
  }
 ],
 "metadata": {
  "kernelspec": {
   "display_name": "Python 3 (ipykernel)",
   "language": "python",
   "name": "python3"
  },
  "language_info": {
   "codemirror_mode": {
    "name": "ipython",
    "version": 3
   },
   "file_extension": ".py",
   "mimetype": "text/x-python",
   "name": "python",
   "nbconvert_exporter": "python",
   "pygments_lexer": "ipython3",
   "version": "3.11.4"
  }
 },
 "nbformat": 4,
 "nbformat_minor": 5
}
